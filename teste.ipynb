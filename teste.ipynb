{
 "cells": [
  {
   "cell_type": "code",
   "execution_count": 1,
   "metadata": {},
   "outputs": [],
   "source": [
    "from criacao_personagem import Personagem\n",
    "\n",
    "Teste =  Personagem(nome = 'Durin Thunderaxe',\n",
    "                         forca = 6,\n",
    "                         destreza = 16,\n",
    "                         constituicao = 12,\n",
    "                         inteligencia = 18,\n",
    "                         sabedoria = 14,\n",
    "                         carisma = 12,\n",
    "                         raca = 'anão',\n",
    "                         classe = 'mago',\n",
    "                         nivel = 8,\n",
    "                         pericia1 = 'conhecimento',\n",
    "                         linguagem = 'Valkar | Gnomica | Abissal | Terran | Celestial',\n",
    "                         conhecimentos = 'Arcano | Natureza | História | Religião',\n",
    "                         tipo_oficio = 'Alquimia',\n",
    "                         img = 'images/BG_tormenta.png'\n",
    "                         )\n",
    "\n",
    "Teste.add_equipamento('Armadura completa')\n",
    "Teste.add_equipamento('Escudo leve')\n",
    "\n",
    "Teste.add_magia('Abençoar Água')\n",
    "Teste.add_magia('Abrir/Fechar')\n"
   ]
  },
  {
   "cell_type": "code",
   "execution_count": 13,
   "metadata": {},
   "outputs": [
    {
     "data": {
      "text/plain": [
       "{'Nível': 'divina 1 (cura)',\n",
       " 'Tempo de Execução': '1 minuto',\n",
       " 'Alcance': 'toque',\n",
       " 'Alvo': '1 frasco de água',\n",
       " 'Duração': 'instantânea',\n",
       " 'Teste de Resistência': 'nenhum',\n",
       " 'Descrição': 'Esta magia imbui um frasco d’água com energia positiva, transformando-a em água benta (veja o Capítulo 7: Equipamento). Componente material: 2,5kg de prata em pó (no valor de 25 TO).'}"
      ]
     },
     "execution_count": 13,
     "metadata": {},
     "output_type": "execute_result"
    }
   ],
   "source": [
    "Teste.magias['Abençoar Água']"
   ]
  }
 ],
 "metadata": {
  "kernelspec": {
   "display_name": ".venv",
   "language": "python",
   "name": "python3"
  },
  "language_info": {
   "codemirror_mode": {
    "name": "ipython",
    "version": 3
   },
   "file_extension": ".py",
   "mimetype": "text/x-python",
   "name": "python",
   "nbconvert_exporter": "python",
   "pygments_lexer": "ipython3",
   "version": "3.12.4"
  }
 },
 "nbformat": 4,
 "nbformat_minor": 2
}
